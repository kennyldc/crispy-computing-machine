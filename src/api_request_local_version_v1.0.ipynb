{
 "cells": [
  {
   "cell_type": "markdown",
   "metadata": {},
   "source": [
    "### Load libraries"
   ]
  },
  {
   "cell_type": "code",
   "execution_count": 230,
   "metadata": {
    "ExecuteTime": {
     "end_time": "2022-03-07T03:02:03.362565Z",
     "start_time": "2022-03-07T03:02:03.357989Z"
    }
   },
   "outputs": [],
   "source": [
    "import yaml\n",
    "import requests\n",
    "from datetime import datetime,timedelta\n",
    "import time\n",
    "import math"
   ]
  },
  {
   "cell_type": "markdown",
   "metadata": {},
   "source": [
    "### Configuration from a YAML file"
   ]
  },
  {
   "cell_type": "code",
   "execution_count": 231,
   "metadata": {
    "ExecuteTime": {
     "end_time": "2022-03-07T03:02:04.014495Z",
     "start_time": "2022-03-07T03:02:03.642777Z"
    }
   },
   "outputs": [],
   "source": [
    "config_file = open('parameter_request.yaml', 'r')\n",
    "config = yaml.safe_load(config_file)"
   ]
  },
  {
   "cell_type": "markdown",
   "metadata": {},
   "source": [
    "### Enviroment variables"
   ]
  },
  {
   "cell_type": "code",
   "execution_count": 232,
   "metadata": {
    "ExecuteTime": {
     "end_time": "2022-03-07T03:02:04.376375Z",
     "start_time": "2022-03-07T03:02:04.021347Z"
    }
   },
   "outputs": [],
   "source": [
    "base_url = 'https://api.coingecko.com/api/v3/'\n",
    "crypto=config[\"cryptos\"]\n",
    "date_start=config[\"period\"][0]\n",
    "date_end=config[\"period\"][1]\n",
    "\n",
    "days=(datetime.strptime(date_end, '%d-%m-%Y').date()-datetime.strptime(date_start, '%d-%m-%Y').date()).days\n",
    "dates = [(datetime.strptime(date_start, '%d-%m-%Y').date()+timedelta(days=x)).strftime(\"%d-%m-%Y\") for x in range(days+1)]"
   ]
  },
  {
   "cell_type": "markdown",
   "metadata": {},
   "source": [
    "### Search id from symbol"
   ]
  },
  {
   "cell_type": "markdown",
   "metadata": {},
   "source": [
    "To do this, we make a Request that list all coins with id, name, and symbol"
   ]
  },
  {
   "cell_type": "code",
   "execution_count": 233,
   "metadata": {
    "ExecuteTime": {
     "end_time": "2022-03-07T03:02:06.412312Z",
     "start_time": "2022-03-07T03:02:05.328993Z"
    }
   },
   "outputs": [],
   "source": [
    "request=base_url+\"coins/list\"\n",
    "cat=requests.get(request).json()\n",
    "crypto_id=[]\n",
    "for i in crypto:\n",
    "    crypto_id.append(next(item for item in cat if item[\"symbol\"] == i)[\"id\"])    "
   ]
  },
  {
   "cell_type": "markdown",
   "metadata": {},
   "source": [
    "### API GET Request"
   ]
  },
  {
   "cell_type": "markdown",
   "metadata": {},
   "source": [
    "We set a rate limit of 35 calls by minute, this way API don't block us"
   ]
  },
  {
   "cell_type": "code",
   "execution_count": 240,
   "metadata": {
    "ExecuteTime": {
     "end_time": "2022-03-07T03:10:08.900214Z",
     "start_time": "2022-03-07T03:07:02.885001Z"
    }
   },
   "outputs": [],
   "source": [
    "data=[]\n",
    "calls=len(crypto_id)*len(dates)\n",
    "rate_minute_call=35\n",
    "\n",
    "i=0\n",
    "for cry in crypto_id:\n",
    "    for dt in dates:\n",
    "        i=i+1\n",
    "        if (i % rate_minute_call)==1:\n",
    "            ahora=datetime.today()\n",
    "        if (i % rate_minute_call)==0:\n",
    "            segundos=60-(datetime.today()-ahora).seconds\n",
    "            time.sleep(segundos) \n",
    "        request_body=base_url+f'coins/{cry}/history?date={dt}&localization=false'\n",
    "        payload=requests.get(request_body).json()\n",
    "        payload['date'] = dt\n",
    "        payload['crypto'] = cry\n",
    "        data.append(payload)     "
   ]
  },
  {
   "cell_type": "code",
   "execution_count": null,
   "metadata": {},
   "outputs": [],
   "source": []
  },
  {
   "cell_type": "code",
   "execution_count": null,
   "metadata": {},
   "outputs": [],
   "source": []
  }
 ],
 "metadata": {
  "kernelspec": {
   "display_name": "virtual_itam",
   "language": "python",
   "name": "virtual_itam"
  },
  "language_info": {
   "codemirror_mode": {
    "name": "ipython",
    "version": 3
   },
   "file_extension": ".py",
   "mimetype": "text/x-python",
   "name": "python",
   "nbconvert_exporter": "python",
   "pygments_lexer": "ipython3",
   "version": "3.8.10"
  },
  "toc": {
   "base_numbering": 1,
   "nav_menu": {},
   "number_sections": true,
   "sideBar": true,
   "skip_h1_title": false,
   "title_cell": "Table of Contents",
   "title_sidebar": "Contents",
   "toc_cell": false,
   "toc_position": {},
   "toc_section_display": true,
   "toc_window_display": true
  }
 },
 "nbformat": 4,
 "nbformat_minor": 4
}
