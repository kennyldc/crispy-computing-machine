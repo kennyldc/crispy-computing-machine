{
 "cells": [
  {
   "cell_type": "markdown",
   "metadata": {},
   "source": [
    "### Load libraries"
   ]
  },
  {
   "cell_type": "code",
   "execution_count": 3,
   "metadata": {
    "ExecuteTime": {
     "end_time": "2022-04-23T23:28:14.243000Z",
     "start_time": "2022-04-23T23:28:14.230129Z"
    }
   },
   "outputs": [],
   "source": [
    "import yaml\n",
    "import json\n",
    "import requests\n",
    "from datetime import datetime,timedelta\n",
    "import time\n",
    "import math\n",
    "from google.cloud import storage"
   ]
  },
  {
   "cell_type": "markdown",
   "metadata": {},
   "source": [
    "### Configuration from a YAML file"
   ]
  },
  {
   "cell_type": "code",
   "execution_count": 6,
   "metadata": {
    "ExecuteTime": {
     "end_time": "2022-04-23T23:10:14.412352Z",
     "start_time": "2022-04-23T23:10:14.332115Z"
    }
   },
   "outputs": [],
   "source": [
    "config_file = open('parameter_request.yaml', 'r')\n",
    "config = yaml.safe_load(config_file)"
   ]
  },
  {
   "cell_type": "markdown",
   "metadata": {},
   "source": [
    "### Enviroment variables"
   ]
  },
  {
   "cell_type": "code",
   "execution_count": 7,
   "metadata": {
    "ExecuteTime": {
     "end_time": "2022-04-23T23:10:30.895165Z",
     "start_time": "2022-04-23T23:10:30.882074Z"
    }
   },
   "outputs": [],
   "source": [
    "bucket = config['bucket']\n",
    "base_url = 'https://api.coingecko.com/api/v3/'\n",
    "crypto=config[\"cryptos\"]\n",
    "date_start=config[\"period\"][0]\n",
    "date_end=config[\"period\"][1]\n",
    "\n",
    "days=(datetime.strptime(date_end, '%d-%m-%Y').date()-datetime.strptime(date_start, '%d-%m-%Y').date()).days\n",
    "dates = [(datetime.strptime(date_start, '%d-%m-%Y').date()+timedelta(days=x)).strftime(\"%d-%m-%Y\") for x in range(days+1)]"
   ]
  },
  {
   "cell_type": "markdown",
   "metadata": {},
   "source": [
    "### Search id from symbol"
   ]
  },
  {
   "cell_type": "markdown",
   "metadata": {},
   "source": [
    "To do this, we make a Request that list all coins with id, name, and symbol"
   ]
  },
  {
   "cell_type": "code",
   "execution_count": 4,
   "metadata": {
    "ExecuteTime": {
     "end_time": "2022-04-23T23:10:44.605019Z",
     "start_time": "2022-04-23T23:10:36.690814Z"
    }
   },
   "outputs": [],
   "source": [
    "request=base_url+\"coins/list\"\n",
    "cat=requests.get(request).json()\n",
    "crypto_id=[]\n",
    "for i in crypto:\n",
    "    crypto_id.append(next(item for item in cat if item[\"symbol\"] == i)[\"id\"])    "
   ]
  },
  {
   "cell_type": "markdown",
   "metadata": {},
   "source": [
    "### API GET Request"
   ]
  },
  {
   "cell_type": "markdown",
   "metadata": {},
   "source": [
    "We set a rate limit of 35 calls by minute, this way API don't block us"
   ]
  },
  {
   "cell_type": "code",
   "execution_count": 47,
   "metadata": {
    "ExecuteTime": {
     "end_time": "2022-03-07T06:14:57.440932Z",
     "start_time": "2022-03-07T06:14:55.200304Z"
    }
   },
   "outputs": [],
   "source": [
    "data=[]\n",
    "calls=len(crypto_id)*len(dates)\n",
    "rate_minute_call=35\n",
    "\n",
    "i=0\n",
    "for cry in crypto_id:\n",
    "    for dt in dates:\n",
    "        i=i+1\n",
    "        if (i % rate_minute_call)==1:\n",
    "            ahora=datetime.today()\n",
    "        if (i % rate_minute_call)==0:\n",
    "            segundos=60-(datetime.today()-ahora).seconds\n",
    "            time.sleep(segundos) \n",
    "        request_body=base_url+f'coins/{cry}/history?date={dt}&localization=false'\n",
    "        payload=requests.get(request_body).json()\n",
    "        payload['date'] = dt\n",
    "        payload['crypto'] = cry\n",
    "        data.append(payload)     "
   ]
  },
  {
   "cell_type": "code",
   "execution_count": 48,
   "metadata": {
    "ExecuteTime": {
     "end_time": "2022-03-07T06:15:28.822202Z",
     "start_time": "2022-03-07T06:15:28.811052Z"
    }
   },
   "outputs": [],
   "source": [
    "for row in data:\n",
    "    try:\n",
    "        row['market_data']['current_price']=row['market_data']['current_price']['usd']\n",
    "        row['market_data']['market_cap']=row['market_data']['market_cap']['usd']\n",
    "        row['market_data']['total_volume']=row['market_data']['total_volume']['usd']\n",
    "    except:\n",
    "        pass"
   ]
  },
  {
   "cell_type": "markdown",
   "metadata": {},
   "source": [
    "### Write into Google Cloud Storage"
   ]
  },
  {
   "cell_type": "code",
   "execution_count": null,
   "metadata": {},
   "outputs": [],
   "source": [
    "client = storage.Client()\n",
    "gcs_bucket = client.get_bucket(bucket)"
   ]
  },
  {
   "cell_type": "code",
   "execution_count": null,
   "metadata": {},
   "outputs": [],
   "source": [
    "for row in data:\n",
    "    path = f\"crypto/{row['symbol']}/data_{row['date']}.json\"\n",
    "    blob = gcs_bucket.blob(path)\n",
    "    with blob.open(mode = 'w') as file:\n",
    "        json.dump(row, file)"
   ]
  },
  {
   "cell_type": "markdown",
   "metadata": {},
   "source": [
    "### Function"
   ]
  },
  {
   "cell_type": "code",
   "execution_count": 5,
   "metadata": {
    "ExecuteTime": {
     "end_time": "2022-04-23T23:25:16.203609Z",
     "start_time": "2022-04-23T23:25:16.190006Z"
    }
   },
   "outputs": [
    {
     "name": "stdout",
     "output_type": "stream",
     "text": [
      "Overwriting etl_job.py\n"
     ]
    }
   ],
   "source": [
    "%%writefile etl_job.py\n",
    "\n",
    "import json\n",
    "import requests\n",
    "import time\n",
    "from datetime import timedelta,datetime\n",
    "from google.cloud import bigquery,storage\n",
    "\n",
    "def etl(date_request,bucket,crypto):\n",
    "    \n",
    "    \"\"\"\n",
    "    Gets data from CoinGecko API. Request is made from last day loaded in bucket + 1 to date_request\n",
    "    \n",
    "    Parameters\n",
    "    ----------        \n",
    "    date_request : date\n",
    "        Last day for request\n",
    "    bucket : str\n",
    "        Bucket name\n",
    "    crypto: list\n",
    "        List of cryptos to make request\n",
    "        \n",
    "    Returns\n",
    "    -------\n",
    "    str\n",
    "        If request was successful\n",
    "    \"\"\"\n",
    "    \n",
    "    base_url = 'https://api.coingecko.com/api/v3/'\n",
    "    \n",
    "    request=base_url+\"coins/list\"\n",
    "    cat=requests.get(request).json()\n",
    "    crypto_id=[]\n",
    "    for i in crypto:\n",
    "        crypto_id.append(next(item for item in cat if item[\"symbol\"] == i)[\"id\"])    \n",
    "    \n",
    "    client = bigquery.Client()\n",
    "    query_job = client.query(\n",
    "    \"\"\"\n",
    "    SELECT DISTINCT\n",
    "        date\n",
    "    FROM\n",
    "        `crispy-computing-machine.crispy_dwh.crypto_btc`\n",
    "    \"\"\")\n",
    "    df = query_job.result().to_dataframe()\n",
    "    date_start=max(df[\"date\"].values)+timedelta(days=1)\n",
    "\n",
    "    days=(date_request-date_start).days\n",
    "    dates = [(date_start+timedelta(days=x)).strftime(\"%d-%m-%Y\") for x in range(days+1)]\n",
    "    \n",
    "    if len(dates)>0:\n",
    "        \n",
    "        data=[]\n",
    "        rate_minute_call=35\n",
    "\n",
    "        i=0\n",
    "        \n",
    "        for cry in crypto_id:\n",
    "            for dt in dates:\n",
    "                i=i+1\n",
    "                if (i % rate_minute_call)==1:\n",
    "                    ahora=datetime.today()\n",
    "                if (i % rate_minute_call)==0:\n",
    "                    segundos=60-(datetime.today()-ahora).seconds\n",
    "                    time.sleep(segundos) \n",
    "                request_body=base_url+f'coins/{cry}/history?date={dt}&localization=false'\n",
    "                payload=requests.get(request_body).json()\n",
    "                payload['date'] = dt\n",
    "                payload['crypto'] = cry\n",
    "                data.append(payload)  \n",
    "        \n",
    "        for row in data:\n",
    "            try:\n",
    "                row['market_data']['current_price']=row['market_data']['current_price']['usd']\n",
    "                row['market_data']['market_cap']=row['market_data']['market_cap']['usd']\n",
    "                row['market_data']['total_volume']=row['market_data']['total_volume']['usd']\n",
    "            except:\n",
    "                pass\n",
    "            \n",
    "        client = storage.Client()\n",
    "        gcs_bucket = client.get_bucket(bucket)\n",
    "        for row in data:\n",
    "            path = f\"crypto/{row['symbol']}/data_{row['date']}.json\"\n",
    "            blob = gcs_bucket.blob(path)\n",
    "            with blob.open(mode = 'w') as file:\n",
    "                json.dump(row, file)\n",
    "                \n",
    "        text='Successful request'\n",
    "    \n",
    "    else:\n",
    "        \n",
    "        text='The day entered is already loaded'\n",
    "    \n",
    "    return text\n",
    "    "
   ]
  },
  {
   "cell_type": "code",
   "execution_count": 7,
   "metadata": {
    "ExecuteTime": {
     "end_time": "2022-04-23T23:30:07.513973Z",
     "start_time": "2022-04-23T23:29:52.981865Z"
    }
   },
   "outputs": [
    {
     "data": {
      "text/plain": [
       "'Successful request'"
      ]
     },
     "execution_count": 7,
     "metadata": {},
     "output_type": "execute_result"
    }
   ],
   "source": [
    "from etl_job import etl\n",
    "\n",
    "etl(date_request=datetime(2022, 4, 22).date(),\n",
    "    bucket='crispy-bucket-2022',\n",
    "    crypto=['btc', 'eth', 'bnb', 'xrp', 'luna', 'sol', 'ada', 'avax', 'dot', 'doge'])    "
   ]
  },
  {
   "cell_type": "code",
   "execution_count": null,
   "metadata": {},
   "outputs": [],
   "source": []
  },
  {
   "cell_type": "code",
   "execution_count": null,
   "metadata": {},
   "outputs": [],
   "source": []
  },
  {
   "cell_type": "code",
   "execution_count": null,
   "metadata": {},
   "outputs": [],
   "source": []
  },
  {
   "cell_type": "code",
   "execution_count": null,
   "metadata": {},
   "outputs": [],
   "source": []
  },
  {
   "cell_type": "code",
   "execution_count": null,
   "metadata": {},
   "outputs": [],
   "source": []
  },
  {
   "cell_type": "code",
   "execution_count": null,
   "metadata": {},
   "outputs": [],
   "source": []
  },
  {
   "cell_type": "code",
   "execution_count": null,
   "metadata": {},
   "outputs": [],
   "source": []
  },
  {
   "cell_type": "code",
   "execution_count": null,
   "metadata": {},
   "outputs": [],
   "source": []
  },
  {
   "cell_type": "code",
   "execution_count": null,
   "metadata": {},
   "outputs": [],
   "source": []
  },
  {
   "cell_type": "code",
   "execution_count": null,
   "metadata": {},
   "outputs": [],
   "source": []
  },
  {
   "cell_type": "code",
   "execution_count": null,
   "metadata": {},
   "outputs": [],
   "source": []
  },
  {
   "cell_type": "code",
   "execution_count": null,
   "metadata": {},
   "outputs": [],
   "source": []
  },
  {
   "cell_type": "code",
   "execution_count": null,
   "metadata": {},
   "outputs": [],
   "source": []
  },
  {
   "cell_type": "code",
   "execution_count": null,
   "metadata": {},
   "outputs": [],
   "source": []
  }
 ],
 "metadata": {
  "environment": {
   "kernel": "python3",
   "name": "tf2-gpu.2-8.m90",
   "type": "gcloud",
   "uri": "gcr.io/deeplearning-platform-release/tf2-gpu.2-8:m90"
  },
  "kernelspec": {
   "display_name": "Python 3",
   "language": "python",
   "name": "python3"
  },
  "language_info": {
   "codemirror_mode": {
    "name": "ipython",
    "version": 3
   },
   "file_extension": ".py",
   "mimetype": "text/x-python",
   "name": "python",
   "nbconvert_exporter": "python",
   "pygments_lexer": "ipython3",
   "version": "3.7.12"
  },
  "toc": {
   "base_numbering": 1,
   "nav_menu": {},
   "number_sections": true,
   "sideBar": true,
   "skip_h1_title": false,
   "title_cell": "Table of Contents",
   "title_sidebar": "Contents",
   "toc_cell": false,
   "toc_position": {},
   "toc_section_display": true,
   "toc_window_display": true
  }
 },
 "nbformat": 4,
 "nbformat_minor": 4
}
