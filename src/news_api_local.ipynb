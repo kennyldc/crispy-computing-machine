{
 "cells": [
  {
   "cell_type": "markdown",
   "metadata": {},
   "source": [
    "### Load libraries"
   ]
  },
  {
   "cell_type": "code",
   "execution_count": 1,
   "metadata": {
    "ExecuteTime": {
     "end_time": "2022-03-07T05:52:50.103992Z",
     "start_time": "2022-03-07T05:52:44.856743Z"
    }
   },
   "outputs": [],
   "source": [
    "import yaml\n",
    "import json\n",
    "import requests\n",
    "from datetime import datetime,timedelta\n",
    "import time\n",
    "import math\n",
    "from google.cloud import storage"
   ]
  },
  {
   "cell_type": "markdown",
   "metadata": {},
   "source": [
    "### Configuration from a YAML file"
   ]
  },
  {
   "cell_type": "code",
   "execution_count": 2,
   "metadata": {
    "ExecuteTime": {
     "end_time": "2022-03-07T05:52:53.554919Z",
     "start_time": "2022-03-07T05:52:50.837512Z"
    }
   },
   "outputs": [],
   "source": [
    "config_file = open('news_parameter_request.yaml', 'r')\n",
    "config = yaml.safe_load(config_file)"
   ]
  },
  {
   "cell_type": "markdown",
   "metadata": {},
   "source": [
    "### Enviroment variables"
   ]
  },
  {
   "cell_type": "markdown",
   "metadata": {},
   "source": [
    "API requests are limited to 100 per day, so we limit the topics to max_days * max_topics requests per code run."
   ]
  },
  {
   "cell_type": "code",
   "execution_count": 3,
   "metadata": {
    "ExecuteTime": {
     "end_time": "2022-03-07T05:53:00.010658Z",
     "start_time": "2022-03-07T05:52:58.940921Z"
    }
   },
   "outputs": [
    {
     "name": "stdout",
     "output_type": "stream",
     "text": [
      "['2022-03-05']\n",
      "['cryptocurrencies']\n"
     ]
    }
   ],
   "source": [
    "bucket = config['bucket']\n",
    "api_key = config['api_key']\n",
    "language = config['language']\n",
    "topics = config[\"topics\"]\n",
    "date_start = config[\"period\"][0]\n",
    "date_end = config[\"period\"][1]\n",
    "base_url = f'https://newsapi.org/v2/everything?apiKey={api_key}&language={language}&'\n",
    "max_days = 1\n",
    "max_topics = 1\n",
    "\n",
    "days = (datetime.strptime(date_end, '%d-%m-%Y').date() - datetime.strptime(date_start, '%d-%m-%Y').date()).days\n",
    "dates = [(datetime.strptime(date_start, '%d-%m-%Y').date() + timedelta(days = x)).strftime(\"%Y-%m-%d\") for x in range(days + 1)]\n",
    "dates = dates[:max_days]\n",
    "topics = topics[:max_topics]\n",
    "\n",
    "print(dates)\n",
    "print(topics)"
   ]
  },
  {
   "cell_type": "markdown",
   "metadata": {},
   "source": [
    "### API GET Request"
   ]
  },
  {
   "cell_type": "code",
   "execution_count": 4,
   "metadata": {
    "ExecuteTime": {
     "end_time": "2022-03-07T06:14:57.440932Z",
     "start_time": "2022-03-07T06:14:55.200304Z"
    }
   },
   "outputs": [
    {
     "name": "stdout",
     "output_type": "stream",
     "text": [
      "https://newsapi.org/v2/everything?apiKey=API_KEY&language=en&q=cryptocurrencies&from=2022-03-05&sortBy=publishedAt\n"
     ]
    }
   ],
   "source": [
    "data = []\n",
    "\n",
    "for topic in topics:\n",
    "    for date in dates:\n",
    "        request_body = base_url + f'q={topic}&from={date}&sortBy=publishedAt'\n",
    "        print(request_body)\n",
    "        payload = requests.get(request_body).json()\n",
    "        payload['topic'] = topic\n",
    "        payload['date'] = date\n",
    "        data.append(payload)"
   ]
  },
  {
   "cell_type": "code",
   "execution_count": 5,
   "metadata": {},
   "outputs": [
    {
     "name": "stdout",
     "output_type": "stream",
     "text": [
      "[{'status': 'error', 'code': 'apiKeyInvalid', 'message': 'Your API key is invalid or incorrect. Check your key, or go to https://newsapi.org to create a free API key.', 'topic': 'cryptocurrencies', 'date': '2022-03-05'}]\n"
     ]
    }
   ],
   "source": [
    "print(data)"
   ]
  },
  {
   "cell_type": "markdown",
   "metadata": {},
   "source": [
    "### Write into Google Cloud Storage"
   ]
  },
  {
   "cell_type": "code",
   "execution_count": null,
   "metadata": {},
   "outputs": [],
   "source": [
    "client = storage.Client()\n",
    "gcs_bucket = client.get_bucket(bucket)"
   ]
  },
  {
   "cell_type": "code",
   "execution_count": null,
   "metadata": {},
   "outputs": [],
   "source": [
    "for row in data:\n",
    "    path = f\"news/{row['url']}/data_{row['title']}.json\"\n",
    "    blob = gcs_bucket.blob(path)\n",
    "    with blob.open(mode = 'w') as file:\n",
    "        json.dump(row, file)"
   ]
  }
 ],
 "metadata": {
  "kernelspec": {
   "display_name": "Python 3 (ipykernel)",
   "language": "python",
   "name": "python3"
  },
  "language_info": {
   "codemirror_mode": {
    "name": "ipython",
    "version": 3
   },
   "file_extension": ".py",
   "mimetype": "text/x-python",
   "name": "python",
   "nbconvert_exporter": "python",
   "pygments_lexer": "ipython3",
   "version": "3.9.0"
  },
  "toc": {
   "base_numbering": 1,
   "nav_menu": {},
   "number_sections": true,
   "sideBar": true,
   "skip_h1_title": false,
   "title_cell": "Table of Contents",
   "title_sidebar": "Contents",
   "toc_cell": false,
   "toc_position": {},
   "toc_section_display": true,
   "toc_window_display": true
  }
 },
 "nbformat": 4,
 "nbformat_minor": 4
}
