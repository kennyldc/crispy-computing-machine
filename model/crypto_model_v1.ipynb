{
 "cells": [
  {
   "cell_type": "code",
   "execution_count": 86,
   "metadata": {},
   "outputs": [],
   "source": [
    "import pandas as pd\n",
    "from functools import reduce"
   ]
  },
  {
   "cell_type": "markdown",
   "metadata": {
    "tags": []
   },
   "source": [
    "## Get data from Big Query"
   ]
  },
  {
   "cell_type": "code",
   "execution_count": 48,
   "metadata": {},
   "outputs": [
    {
     "name": "stderr",
     "output_type": "stream",
     "text": [
      "Query complete after 0.00s: 100%|██████████| 1/1 [00:00<00:00, 738.82query/s] \n",
      "Downloading: 100%|██████████| 1909/1909 [00:00<00:00, 2265.38rows/s]\n"
     ]
    }
   ],
   "source": [
    "%%bigquery df\n",
    "SELECT\n",
    "    id\n",
    "    ,symbol\n",
    "    ,name\n",
    "    ,date\n",
    "    ,market_data.current_price as current_price\n",
    "    ,market_data.market_cap as market_cap\n",
    "    ,market_data.total_volume as total_volume  \n",
    "FROM\n",
    "    `crispy-computing-machine.crispy_dwh.crypto_btc`"
   ]
  },
  {
   "cell_type": "markdown",
   "metadata": {},
   "source": [
    "Create a column for time ordered by day"
   ]
  },
  {
   "cell_type": "code",
   "execution_count": 49,
   "metadata": {},
   "outputs": [],
   "source": [
    "df[\"date\"]=pd.to_datetime(df[\"date\"])\n",
    "df.sort_values(by=[\"date\"],ascending=True,inplace=True)\n",
    "df.reset_index(drop=True,inplace=True)\n",
    "df.reset_index(drop=False,inplace=True)\n",
    "df.rename(columns={\"index\":\"t\"},inplace=True)"
   ]
  },
  {
   "cell_type": "markdown",
   "metadata": {},
   "source": [
    "Summary of our dataframe"
   ]
  },
  {
   "cell_type": "code",
   "execution_count": 50,
   "metadata": {},
   "outputs": [
    {
     "data": {
      "text/html": [
       "<div>\n",
       "<style scoped>\n",
       "    .dataframe tbody tr th:only-of-type {\n",
       "        vertical-align: middle;\n",
       "    }\n",
       "\n",
       "    .dataframe tbody tr th {\n",
       "        vertical-align: top;\n",
       "    }\n",
       "\n",
       "    .dataframe thead th {\n",
       "        text-align: right;\n",
       "    }\n",
       "</style>\n",
       "<table border=\"1\" class=\"dataframe\">\n",
       "  <thead>\n",
       "    <tr style=\"text-align: right;\">\n",
       "      <th></th>\n",
       "      <th>columna</th>\n",
       "      <th>completitud</th>\n",
       "      <th>missings</th>\n",
       "      <th>type</th>\n",
       "    </tr>\n",
       "  </thead>\n",
       "  <tbody>\n",
       "    <tr>\n",
       "      <th>0</th>\n",
       "      <td>t</td>\n",
       "      <td>100.000000</td>\n",
       "      <td>0</td>\n",
       "      <td>int64</td>\n",
       "    </tr>\n",
       "    <tr>\n",
       "      <th>1</th>\n",
       "      <td>id</td>\n",
       "      <td>100.000000</td>\n",
       "      <td>0</td>\n",
       "      <td>object</td>\n",
       "    </tr>\n",
       "    <tr>\n",
       "      <th>2</th>\n",
       "      <td>symbol</td>\n",
       "      <td>100.000000</td>\n",
       "      <td>0</td>\n",
       "      <td>object</td>\n",
       "    </tr>\n",
       "    <tr>\n",
       "      <th>3</th>\n",
       "      <td>name</td>\n",
       "      <td>100.000000</td>\n",
       "      <td>0</td>\n",
       "      <td>object</td>\n",
       "    </tr>\n",
       "    <tr>\n",
       "      <th>4</th>\n",
       "      <td>date</td>\n",
       "      <td>100.000000</td>\n",
       "      <td>0</td>\n",
       "      <td>datetime64[ns]</td>\n",
       "    </tr>\n",
       "    <tr>\n",
       "      <th>5</th>\n",
       "      <td>current_price</td>\n",
       "      <td>100.000000</td>\n",
       "      <td>0</td>\n",
       "      <td>float64</td>\n",
       "    </tr>\n",
       "    <tr>\n",
       "      <th>6</th>\n",
       "      <td>market_cap</td>\n",
       "      <td>99.947617</td>\n",
       "      <td>1</td>\n",
       "      <td>float64</td>\n",
       "    </tr>\n",
       "    <tr>\n",
       "      <th>7</th>\n",
       "      <td>total_volume</td>\n",
       "      <td>100.000000</td>\n",
       "      <td>0</td>\n",
       "      <td>float64</td>\n",
       "    </tr>\n",
       "  </tbody>\n",
       "</table>\n",
       "</div>"
      ],
      "text/plain": [
       "         columna  completitud  missings            type\n",
       "0              t   100.000000         0           int64\n",
       "1             id   100.000000         0          object\n",
       "2         symbol   100.000000         0          object\n",
       "3           name   100.000000         0          object\n",
       "4           date   100.000000         0  datetime64[ns]\n",
       "5  current_price   100.000000         0         float64\n",
       "6     market_cap    99.947617         1         float64\n",
       "7   total_volume   100.000000         0         float64"
      ]
     },
     "execution_count": 50,
     "metadata": {},
     "output_type": "execute_result"
    }
   ],
   "source": [
    "completitud=pd.DataFrame((1-df.isnull().sum()/df.shape[0])*100).reset_index().rename(columns={\"index\":\"columna\",0:\"completitud\"})\n",
    "missings=pd.DataFrame(df.isnull().sum()).reset_index().rename(columns={\"index\":\"columna\",0:\"missings\"})\n",
    "completitud=completitud.merge(missings,how=\"inner\",on=\"columna\")\n",
    "tipo=pd.DataFrame(df.dtypes).reset_index().rename(columns={\"index\":\"columna\",0:\"type\"})\n",
    "completitud=completitud.merge(tipo,how=\"inner\",on=\"columna\")\n",
    "completitud"
   ]
  },
  {
   "cell_type": "markdown",
   "metadata": {},
   "source": [
    "## Feature Engineering "
   ]
  },
  {
   "cell_type": "code",
   "execution_count": 95,
   "metadata": {},
   "outputs": [],
   "source": [
    "class window_time(object):\n",
    "    def __init__(self,vobs,vdes,step,incremental):\n",
    "        self.vobs = vobs\n",
    "        self.vdes = vdes    \n",
    "        self.step = step\n",
    "        self.incremental = incremental\n",
    "    \n",
    "    def anclas(self, time_column):\n",
    "        self.anclai = self.vobs-1\n",
    "        self.anclaf = time_column.max()- self.vdes\n",
    "        \n",
    "    def ing_X(self,df,ancla,k):\n",
    "        \n",
    "        l = []\n",
    "        \n",
    "        aux = df.loc[(df['t'] <= ancla) & (df['t'] >= (ancla-k+1))]\n",
    "        \n",
    "        #current_price_mean\n",
    "        piv = aux.pivot_table(index='symbol',columns='t',values='current_price',aggfunc='sum')\n",
    "        piv[f'x_current_price_mean_{k}'] = piv.mean(axis=1)\n",
    "        l.append(piv.filter(like='x_'))\n",
    "        \n",
    "        #current_price_std\n",
    "        piv = aux.pivot_table(index='symbol',columns='t',values='current_price',aggfunc='sum')\n",
    "        piv[f'x_current_price_std_{k}'] = piv.std(axis=1)\n",
    "        l.append(piv.filter(like='x_'))   \n",
    "        \n",
    "        #market_cap_mean\n",
    "        piv = aux.pivot_table(index='symbol',columns='t',values='market_cap',aggfunc='sum')\n",
    "        piv[f'x_market_cap_mean_{k}'] = piv.mean(axis=1)\n",
    "        l.append(piv.filter(like='x_'))\n",
    "\n",
    "        #market_cap_std\n",
    "        piv = aux.pivot_table(index='symbol',columns='t',values='market_cap',aggfunc='sum')\n",
    "        piv[f'x_market_cap_std_{k}'] = piv.std(axis=1)\n",
    "        l.append(piv.filter(like='x_'))   \n",
    "\n",
    "        #total_volume_mean\n",
    "        piv = aux.pivot_table(index='symbol',columns='t',values='total_volume',aggfunc='sum')\n",
    "        piv[f'x_total_volume_mean_{k}'] = piv.mean(axis=1)\n",
    "        l.append(piv.filter(like='x_'))\n",
    "\n",
    "        #total_volume_std\n",
    "        piv = aux.pivot_table(index='symbol',columns='t',values='total_volume',aggfunc='sum')\n",
    "        piv[f'x_total_volume_std_{k}'] = piv.std(axis=1)\n",
    "        l.append(piv.filter(like='x_'))   \n",
    "\n",
    "        aux = reduce(lambda x,y:pd.merge(x,y,left_index=True,right_index=True,how='outer'),l).reset_index()\n",
    "        aux.insert(1,'ancla',ancla)\n",
    "    \n",
    "        return aux\n",
    "    \n",
    "    def eng_X(self,df,um):\n",
    "        \n",
    "        cruzar = lambda x,y:pd.merge(x,y,on=um,how='outer')\n",
    "        \n",
    "        apilar = lambda x,y:x.append(y,ignore_index=True)\n",
    "        \n",
    "        X = reduce(apilar,\n",
    "                   map(lambda ancla:\n",
    "                       reduce(cruzar,\n",
    "                              map(lambda k:self.ing_X(df,ancla,k),range(self.step,self.vobs+self.step,self.step))\n",
    "                             ),\n",
    "                   range(self.anclai,self.anclaf+1)\n",
    "                      )\n",
    "                  )\n",
    "        return X"
   ]
  },
  {
   "cell_type": "code",
   "execution_count": 96,
   "metadata": {},
   "outputs": [],
   "source": [
    "window=window_time(vobs=360,vdes=7,step=30,incremental=0.1)\n",
    "window.anclas(df['t'])\n",
    "X=window.eng_X(df,['symbol','ancla'])"
   ]
  },
  {
   "cell_type": "markdown",
   "metadata": {},
   "source": [
    "Save X dataframe... because it takes a lot of time"
   ]
  },
  {
   "cell_type": "code",
   "execution_count": null,
   "metadata": {},
   "outputs": [],
   "source": [
    "with open('X_v1.pkl', 'wb') as f:\n",
    "    pickle.dump(X,f)"
   ]
  },
  {
   "cell_type": "markdown",
   "metadata": {},
   "source": [
    "## Features selection"
   ]
  },
  {
   "cell_type": "code",
   "execution_count": null,
   "metadata": {},
   "outputs": [],
   "source": [
    "with open('X_v1.pkl', 'rb') as f:\n",
    "    X = pickle.load(f)"
   ]
  },
  {
   "cell_type": "code",
   "execution_count": null,
   "metadata": {},
   "outputs": [],
   "source": []
  },
  {
   "cell_type": "code",
   "execution_count": null,
   "metadata": {},
   "outputs": [],
   "source": []
  }
 ],
 "metadata": {
  "environment": {
   "kernel": "python3",
   "name": "tf2-gpu.2-8.m90",
   "type": "gcloud",
   "uri": "gcr.io/deeplearning-platform-release/tf2-gpu.2-8:m90"
  },
  "kernelspec": {
   "display_name": "Python 3",
   "language": "python",
   "name": "python3"
  },
  "language_info": {
   "codemirror_mode": {
    "name": "ipython",
    "version": 3
   },
   "file_extension": ".py",
   "mimetype": "text/x-python",
   "name": "python",
   "nbconvert_exporter": "python",
   "pygments_lexer": "ipython3",
   "version": "3.8.10"
  },
  "toc": {
   "base_numbering": 1,
   "nav_menu": {},
   "number_sections": true,
   "sideBar": true,
   "skip_h1_title": false,
   "title_cell": "Table of Contents",
   "title_sidebar": "Contents",
   "toc_cell": false,
   "toc_position": {},
   "toc_section_display": true,
   "toc_window_display": false
  }
 },
 "nbformat": 4,
 "nbformat_minor": 5
}
